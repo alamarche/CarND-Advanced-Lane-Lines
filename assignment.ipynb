{
 "cells": [
  {
   "cell_type": "markdown",
   "metadata": {},
   "source": [
    "## Advanced Lane Finding Project\n",
    "\n",
    "The goals / steps of this project are the following:\n",
    "\n",
    "* Compute the camera calibration matrix and distortion coefficients given a set of chessboard images.\n",
    "* Apply a distortion correction to raw images.\n",
    "* Use color transforms, gradients, etc., to create a thresholded binary image.\n",
    "* Apply a perspective transform to rectify binary image (\"birds-eye view\").\n",
    "* Detect lane pixels and fit to find the lane boundary.\n",
    "* Determine the curvature of the lane and vehicle position with respect to center.\n",
    "* Warp the detected lane boundaries back onto the original image.\n",
    "* Output visual display of the lane boundaries and numerical estimation of lane curvature and vehicle position."
   ]
  },
  {
   "cell_type": "markdown",
   "metadata": {},
   "source": [
    "## Import Dependencies"
   ]
  },
  {
   "cell_type": "code",
   "execution_count": 37,
   "metadata": {},
   "outputs": [],
   "source": [
    "import cv2\n",
    "import matplotlib.image as mpimg\n",
    "import matplotlib.pyplot as plt\n",
    "import numpy as np\n",
    "import os\n",
    "from moviepy.editor import VideoFileClip"
   ]
  },
  {
   "cell_type": "markdown",
   "metadata": {},
   "source": [
    "## Functions"
   ]
  },
  {
   "cell_type": "code",
   "execution_count": 36,
   "metadata": {},
   "outputs": [],
   "source": [
    "def show_img(img):\n",
    "    \"\"\"Simple helper function used to visualize output during development\n",
    "    Takes an np.array image as input - returns nothing\"\"\"\n",
    "\n",
    "    fig = plt.figure()\n",
    "    fig.add_subplot(111)\n",
    "    plt.imshow(img)\n",
    "    plt.show()\n",
    "\n",
    "def calibrateCam(rootpath=\"./camera_cal/\", nx=9, ny=6):\n",
    "    \"\"\"calibrateCamera is called to perform calibration on a single camera once at the start of the script\n",
    "    It acts on all files with a .jpg (case-sensitive) extension contained in rootpath. \n",
    "    All qualifying files are expected to have a minimum of nx and ny checkerboard intersections.\n",
    "    nx and ny are the # of internal corners on checkerboard paper (not img)\"\"\"\n",
    "\n",
    "    calImgPaths = [rootpath + i for i in os.listdir(rootpath) if i[-3:] == 'jpg']\n",
    "\n",
    "    # For storage of image & object points (img points output of calibration calls)\n",
    "    # objPts = np.meshgrid()\n",
    "    imgPts = []\n",
    "    objPts = []\n",
    "\n",
    "    objp = np.zeros((nx*ny,3), np.float32)\n",
    "    objp[:,:2] = np.mgrid[0:9,0:6].T.reshape(-1,2)\n",
    "\n",
    "    lastImgSize = 0 # Used in error check for img.shape within loop\n",
    "\n",
    "    # For each given image\n",
    "    for path in calImgPaths:\n",
    "\n",
    "        # Read as grayscale and find corners using fxn params\n",
    "        img = cv2.imread(path, flags=cv2.IMREAD_GRAYSCALE)\n",
    "        ok, corners = cv2.findChessboardCorners(img, (ny, nx), None)\n",
    "\n",
    "        # If corners are returned for a given image\n",
    "        if ok == True:\n",
    "            # Add list entry for located corners and unit matrix for each success\n",
    "            imgPts.append(corners)\n",
    "            objPts.append(objp)\n",
    "        \n",
    "        # Error checking to see if all of the calibration images are of similar resolution\n",
    "        # Was originally a same-size check, but atleast one of the images is not the same size\n",
    "        size = np.shape(img)\n",
    "        if type(lastImgSize) is int:\n",
    "            pass\n",
    "        elif (lastImgSize[0] - size[0] > 50) | (lastImgSize[1] - size[1] > 50): \n",
    "            raise Exception(\"Calibration images must all be of similar resolution\")\n",
    "        \n",
    "        lastImgSize = size\n",
    "    \n",
    "    ok, camMat, distortCoeff, rotVec, transVec = cv2.calibrateCamera(objPts, imgPts, size[::-1], None, None)\n",
    "\n",
    "    return ok, camMat, distortCoeff\n",
    "\n",
    "\n",
    "def imgProcRoutine(img, camMat, distortMat):\n",
    "    return\n",
    "\n",
    "def main():\n",
    "    \"\"\"Main routine\"\"\"\n",
    "    \n",
    "    # Calibrate the camera\n",
    "    ok, camMat, distortMat = calibrateCam()\n",
    "    # cv2.undistort\n",
    "    return\n",
    "\n",
    "\n",
    "\n"
   ]
  },
  {
   "cell_type": "code",
   "execution_count": 34,
   "metadata": {},
   "outputs": [],
   "source": [
    "ok, camMat, distortCoeff, rotVec, transVec = cv2.calibrateCamera(objp, imgp, size[::-1], None, None)"
   ]
  },
  {
   "cell_type": "code",
   "execution_count": 29,
   "metadata": {},
   "outputs": [
    {
     "output_type": "execute_result",
     "data": {
      "text/plain": "(720, 1280)"
     },
     "metadata": {},
     "execution_count": 29
    }
   ],
   "source": [
    "size"
   ]
  },
  {
   "cell_type": "code",
   "execution_count": 32,
   "metadata": {
    "tags": [
     "outputPrepend"
    ]
   },
   "outputs": [
    {
     "output_type": "stream",
     "name": "stdout",
     "text": "[array([[0, 0],\n       [1, 0],\n       [2, 0],\n       [3, 0],\n       [4, 0],\n       [5, 0],\n       [6, 0],\n       [7, 0],\n       [8, 0],\n       [0, 1],\n       [1, 1],\n       [2, 1],\n       [3, 1],\n       [4, 1],\n       [5, 1],\n       [6, 1],\n       [7, 1],\n       [8, 1],\n       [0, 2],\n       [1, 2],\n       [2, 2],\n       [3, 2],\n       [4, 2],\n       [5, 2],\n       [6, 2],\n       [7, 2],\n       [8, 2],\n       [0, 3],\n       [1, 3],\n       [2, 3],\n       [3, 3],\n       [4, 3],\n       [5, 3],\n       [6, 3],\n       [7, 3],\n       [8, 3],\n       [0, 4],\n       [1, 4],\n       [2, 4],\n       [3, 4],\n       [4, 4],\n       [5, 4],\n       [6, 4],\n       [7, 4],\n       [8, 4],\n       [0, 5],\n       [1, 5],\n       [2, 5],\n       [3, 5],\n       [4, 5],\n       [5, 5],\n       [6, 5],\n       [7, 5],\n       [8, 5]]), array([[0, 0],\n       [1, 0],\n       [2, 0],\n       [3, 0],\n       [4, 0],\n       [5, 0],\n       [6, 0],\n       [7, 0],\n       [8, 0],\n       [0, 1],\n       [1, 1],\n       [2, 1],\n       [3, 1],\n       [4, 1],\n       [5, 1],\n       [6, 1],\n       [7, 1],\n       [8, 1],\n       [0, 2],\n       [1, 2],\n       [2, 2],\n       [3, 2],\n       [4, 2],\n       [5, 2],\n       [6, 2],\n       [7, 2],\n       [8, 2],\n       [0, 3],\n       [1, 3],\n       [2, 3],\n       [3, 3],\n       [4, 3],\n       [5, 3],\n       [6, 3],\n       [7, 3],\n       [8, 3],\n       [0, 4],\n       [1, 4],\n       [2, 4],\n       [3, 4],\n       [4, 4],\n       [5, 4],\n       [6, 4],\n       [7, 4],\n       [8, 4],\n       [0, 5],\n       [1, 5],\n       [2, 5],\n       [3, 5],\n       [4, 5],\n       [5, 5],\n       [6, 5],\n       [7, 5],\n       [8, 5]]), array([[0, 0],\n       [1, 0],\n       [2, 0],\n       [3, 0],\n       [4, 0],\n       [5, 0],\n       [6, 0],\n       [7, 0],\n       [8, 0],\n       [0, 1],\n       [1, 1],\n       [2, 1],\n       [3, 1],\n       [4, 1],\n       [5, 1],\n       [6, 1],\n       [7, 1],\n       [8, 1],\n       [0, 2],\n       [1, 2],\n       [2, 2],\n       [3, 2],\n       [4, 2],\n       [5, 2],\n       [6, 2],\n       [7, 2],\n       [8, 2],\n       [0, 3],\n       [1, 3],\n       [2, 3],\n       [3, 3],\n       [4, 3],\n       [5, 3],\n       [6, 3],\n       [7, 3],\n       [8, 3],\n       [0, 4],\n       [1, 4],\n       [2, 4],\n       [3, 4],\n       [4, 4],\n       [5, 4],\n       [6, 4],\n       [7, 4],\n       [8, 4],\n       [0, 5],\n       [1, 5],\n       [2, 5],\n       [3, 5],\n       [4, 5],\n       [5, 5],\n       [6, 5],\n       [7, 5],\n       [8, 5]]), array([[0, 0],\n       [1, 0],\n       [2, 0],\n       [3, 0],\n       [4, 0],\n       [5, 0],\n       [6, 0],\n       [7, 0],\n       [8, 0],\n       [0, 1],\n       [1, 1],\n       [2, 1],\n       [3, 1],\n       [4, 1],\n       [5, 1],\n       [6, 1],\n       [7, 1],\n       [8, 1],\n       [0, 2],\n       [1, 2],\n       [2, 2],\n       [3, 2],\n       [4, 2],\n       [5, 2],\n       [6, 2],\n       [7, 2],\n       [8, 2],\n       [0, 3],\n       [1, 3],\n       [2, 3],\n       [3, 3],\n       [4, 3],\n       [5, 3],\n       [6, 3],\n       [7, 3],\n       [8, 3],\n       [0, 4],\n       [1, 4],\n       [2, 4],\n       [3, 4],\n       [4, 4],\n       [5, 4],\n       [6, 4],\n       [7, 4],\n       [8, 4],\n       [0, 5],\n       [1, 5],\n       [2, 5],\n       [3, 5],\n       [4, 5],\n       [5, 5],\n       [6, 5],\n       [7, 5],\n       [8, 5]]), array([[0, 0],\n       [1, 0],\n       [2, 0],\n       [3, 0],\n       [4, 0],\n       [5, 0],\n       [6, 0],\n       [7, 0],\n       [8, 0],\n       [0, 1],\n       [1, 1],\n       [2, 1],\n       [3, 1],\n       [4, 1],\n       [5, 1],\n       [6, 1],\n       [7, 1],\n       [8, 1],\n       [0, 2],\n       [1, 2],\n       [2, 2],\n       [3, 2],\n       [4, 2],\n       [5, 2],\n       [6, 2],\n       [7, 2],\n       [8, 2],\n       [0, 3],\n       [1, 3],\n       [2, 3],\n       [3, 3],\n       [4, 3],\n       [5, 3],\n       [6, 3],\n       [7, 3],\n       [8, 3],\n       [0, 4],\n       [1, 4],\n       [2, 4],\n       [3, 4],\n       [4, 4],\n       [5, 4],\n       [6, 4],\n       [7, 4],\n       [8, 4],\n       [0, 5],\n       [1, 5],\n       [2, 5],\n       [3, 5],\n       [4, 5],\n       [5, 5],\n       [6, 5],\n       [7, 5],\n       [8, 5]]), array([[0, 0],\n       [1, 0],\n       [2, 0],\n       [3, 0],\n       [4, 0],\n       [5, 0],\n       [6, 0],\n       [7, 0],\n       [8, 0],\n       [0, 1],\n       [1, 1],\n       [2, 1],\n       [3, 1],\n       [4, 1],\n       [5, 1],\n       [6, 1],\n       [7, 1],\n       [8, 1],\n       [0, 2],\n       [1, 2],\n       [2, 2],\n       [3, 2],\n       [4, 2],\n       [5, 2],\n       [6, 2],\n       [7, 2],\n       [8, 2],\n       [0, 3],\n       [1, 3],\n       [2, 3],\n       [3, 3],\n       [4, 3],\n       [5, 3],\n       [6, 3],\n       [7, 3],\n       [8, 3],\n       [0, 4],\n       [1, 4],\n       [2, 4],\n       [3, 4],\n       [4, 4],\n       [5, 4],\n       [6, 4],\n       [7, 4],\n       [8, 4],\n       [0, 5],\n       [1, 5],\n       [2, 5],\n       [3, 5],\n       [4, 5],\n       [5, 5],\n       [6, 5],\n       [7, 5],\n       [8, 5]]), array([[0, 0],\n       [1, 0],\n       [2, 0],\n       [3, 0],\n       [4, 0],\n       [5, 0],\n       [6, 0],\n       [7, 0],\n       [8, 0],\n       [0, 1],\n       [1, 1],\n       [2, 1],\n       [3, 1],\n       [4, 1],\n       [5, 1],\n       [6, 1],\n       [7, 1],\n       [8, 1],\n       [0, 2],\n       [1, 2],\n       [2, 2],\n       [3, 2],\n       [4, 2],\n       [5, 2],\n       [6, 2],\n       [7, 2],\n       [8, 2],\n       [0, 3],\n       [1, 3],\n       [2, 3],\n       [3, 3],\n       [4, 3],\n       [5, 3],\n       [6, 3],\n       [7, 3],\n       [8, 3],\n       [0, 4],\n       [1, 4],\n       [2, 4],\n       [3, 4],\n       [4, 4],\n       [5, 4],\n       [6, 4],\n       [7, 4],\n       [8, 4],\n       [0, 5],\n       [1, 5],\n       [2, 5],\n       [3, 5],\n       [4, 5],\n       [5, 5],\n       [6, 5],\n       [7, 5],\n       [8, 5]]), array([[0, 0],\n       [1, 0],\n       [2, 0],\n       [3, 0],\n       [4, 0],\n       [5, 0],\n       [6, 0],\n       [7, 0],\n       [8, 0],\n       [0, 1],\n       [1, 1],\n       [2, 1],\n       [3, 1],\n       [4, 1],\n       [5, 1],\n       [6, 1],\n       [7, 1],\n       [8, 1],\n       [0, 2],\n       [1, 2],\n       [2, 2],\n       [3, 2],\n       [4, 2],\n       [5, 2],\n       [6, 2],\n       [7, 2],\n       [8, 2],\n       [0, 3],\n       [1, 3],\n       [2, 3],\n       [3, 3],\n       [4, 3],\n       [5, 3],\n       [6, 3],\n       [7, 3],\n       [8, 3],\n       [0, 4],\n       [1, 4],\n       [2, 4],\n       [3, 4],\n       [4, 4],\n       [5, 4],\n       [6, 4],\n       [7, 4],\n       [8, 4],\n       [0, 5],\n       [1, 5],\n       [2, 5],\n       [3, 5],\n       [4, 5],\n       [5, 5],\n       [6, 5],\n       [7, 5],\n       [8, 5]]), array([[0, 0],\n       [1, 0],\n       [2, 0],\n       [3, 0],\n       [4, 0],\n       [5, 0],\n       [6, 0],\n       [7, 0],\n       [8, 0],\n       [0, 1],\n       [1, 1],\n       [2, 1],\n       [3, 1],\n       [4, 1],\n       [5, 1],\n       [6, 1],\n       [7, 1],\n       [8, 1],\n       [0, 2],\n       [1, 2],\n       [2, 2],\n       [3, 2],\n       [4, 2],\n       [5, 2],\n       [6, 2],\n       [7, 2],\n       [8, 2],\n       [0, 3],\n       [1, 3],\n       [2, 3],\n       [3, 3],\n       [4, 3],\n       [5, 3],\n       [6, 3],\n       [7, 3],\n       [8, 3],\n       [0, 4],\n       [1, 4],\n       [2, 4],\n       [3, 4],\n       [4, 4],\n       [5, 4],\n       [6, 4],\n       [7, 4],\n       [8, 4],\n       [0, 5],\n       [1, 5],\n       [2, 5],\n       [3, 5],\n       [4, 5],\n       [5, 5],\n       [6, 5],\n       [7, 5],\n       [8, 5]]), array([[0, 0],\n       [1, 0],\n       [2, 0],\n       [3, 0],\n       [4, 0],\n       [5, 0],\n       [6, 0],\n       [7, 0],\n       [8, 0],\n       [0, 1],\n       [1, 1],\n       [2, 1],\n       [3, 1],\n       [4, 1],\n       [5, 1],\n       [6, 1],\n       [7, 1],\n       [8, 1],\n       [0, 2],\n       [1, 2],\n       [2, 2],\n       [3, 2],\n       [4, 2],\n       [5, 2],\n       [6, 2],\n       [7, 2],\n       [8, 2],\n       [0, 3],\n       [1, 3],\n       [2, 3],\n       [3, 3],\n       [4, 3],\n       [5, 3],\n       [6, 3],\n       [7, 3],\n       [8, 3],\n       [0, 4],\n       [1, 4],\n       [2, 4],\n       [3, 4],\n       [4, 4],\n       [5, 4],\n       [6, 4],\n       [7, 4],\n       [8, 4],\n       [0, 5],\n       [1, 5],\n       [2, 5],\n       [3, 5],\n       [4, 5],\n       [5, 5],\n       [6, 5],\n       [7, 5],\n       [8, 5]]), array([[0, 0],\n       [1, 0],\n       [2, 0],\n       [3, 0],\n       [4, 0],\n       [5, 0],\n       [6, 0],\n       [7, 0],\n       [8, 0],\n       [0, 1],\n       [1, 1],\n       [2, 1],\n       [3, 1],\n       [4, 1],\n       [5, 1],\n       [6, 1],\n       [7, 1],\n       [8, 1],\n       [0, 2],\n       [1, 2],\n       [2, 2],\n       [3, 2],\n       [4, 2],\n       [5, 2],\n       [6, 2],\n       [7, 2],\n       [8, 2],\n       [0, 3],\n       [1, 3],\n       [2, 3],\n       [3, 3],\n       [4, 3],\n       [5, 3],\n       [6, 3],\n       [7, 3],\n       [8, 3],\n       [0, 4],\n       [1, 4],\n       [2, 4],\n       [3, 4],\n       [4, 4],\n       [5, 4],\n       [6, 4],\n       [7, 4],\n       [8, 4],\n       [0, 5],\n       [1, 5],\n       [2, 5],\n       [3, 5],\n       [4, 5],\n       [5, 5],\n       [6, 5],\n       [7, 5],\n       [8, 5]]), array([[0, 0],\n       [1, 0],\n       [2, 0],\n       [3, 0],\n       [4, 0],\n       [5, 0],\n       [6, 0],\n       [7, 0],\n       [8, 0],\n       [0, 1],\n       [1, 1],\n       [2, 1],\n       [3, 1],\n       [4, 1],\n       [5, 1],\n       [6, 1],\n       [7, 1],\n       [8, 1],\n       [0, 2],\n       [1, 2],\n       [2, 2],\n       [3, 2],\n       [4, 2],\n       [5, 2],\n       [6, 2],\n       [7, 2],\n       [8, 2],\n       [0, 3],\n       [1, 3],\n       [2, 3],\n       [3, 3],\n       [4, 3],\n       [5, 3],\n       [6, 3],\n       [7, 3],\n       [8, 3],\n       [0, 4],\n       [1, 4],\n       [2, 4],\n       [3, 4],\n       [4, 4],\n       [5, 4],\n       [6, 4],\n       [7, 4],\n       [8, 4],\n       [0, 5],\n       [1, 5],\n       [2, 5],\n       [3, 5],\n       [4, 5],\n       [5, 5],\n       [6, 5],\n       [7, 5],\n       [8, 5]]), array([[0, 0],\n       [1, 0],\n       [2, 0],\n       [3, 0],\n       [4, 0],\n       [5, 0],\n       [6, 0],\n       [7, 0],\n       [8, 0],\n       [0, 1],\n       [1, 1],\n       [2, 1],\n       [3, 1],\n       [4, 1],\n       [5, 1],\n       [6, 1],\n       [7, 1],\n       [8, 1],\n       [0, 2],\n       [1, 2],\n       [2, 2],\n       [3, 2],\n       [4, 2],\n       [5, 2],\n       [6, 2],\n       [7, 2],\n       [8, 2],\n       [0, 3],\n       [1, 3],\n       [2, 3],\n       [3, 3],\n       [4, 3],\n       [5, 3],\n       [6, 3],\n       [7, 3],\n       [8, 3],\n       [0, 4],\n       [1, 4],\n       [2, 4],\n       [3, 4],\n       [4, 4],\n       [5, 4],\n       [6, 4],\n       [7, 4],\n       [8, 4],\n       [0, 5],\n       [1, 5],\n       [2, 5],\n       [3, 5],\n       [4, 5],\n       [5, 5],\n       [6, 5],\n       [7, 5],\n       [8, 5]]), array([[0, 0],\n       [1, 0],\n       [2, 0],\n       [3, 0],\n       [4, 0],\n       [5, 0],\n       [6, 0],\n       [7, 0],\n       [8, 0],\n       [0, 1],\n       [1, 1],\n       [2, 1],\n       [3, 1],\n       [4, 1],\n       [5, 1],\n       [6, 1],\n       [7, 1],\n       [8, 1],\n       [0, 2],\n       [1, 2],\n       [2, 2],\n       [3, 2],\n       [4, 2],\n       [5, 2],\n       [6, 2],\n       [7, 2],\n       [8, 2],\n       [0, 3],\n       [1, 3],\n       [2, 3],\n       [3, 3],\n       [4, 3],\n       [5, 3],\n       [6, 3],\n       [7, 3],\n       [8, 3],\n       [0, 4],\n       [1, 4],\n       [2, 4],\n       [3, 4],\n       [4, 4],\n       [5, 4],\n       [6, 4],\n       [7, 4],\n       [8, 4],\n       [0, 5],\n       [1, 5],\n       [2, 5],\n       [3, 5],\n       [4, 5],\n       [5, 5],\n       [6, 5],\n       [7, 5],\n       [8, 5]]), array([[0, 0],\n       [1, 0],\n       [2, 0],\n       [3, 0],\n       [4, 0],\n       [5, 0],\n       [6, 0],\n       [7, 0],\n       [8, 0],\n       [0, 1],\n       [1, 1],\n       [2, 1],\n       [3, 1],\n       [4, 1],\n       [5, 1],\n       [6, 1],\n       [7, 1],\n       [8, 1],\n       [0, 2],\n       [1, 2],\n       [2, 2],\n       [3, 2],\n       [4, 2],\n       [5, 2],\n       [6, 2],\n       [7, 2],\n       [8, 2],\n       [0, 3],\n       [1, 3],\n       [2, 3],\n       [3, 3],\n       [4, 3],\n       [5, 3],\n       [6, 3],\n       [7, 3],\n       [8, 3],\n       [0, 4],\n       [1, 4],\n       [2, 4],\n       [3, 4],\n       [4, 4],\n       [5, 4],\n       [6, 4],\n       [7, 4],\n       [8, 4],\n       [0, 5],\n       [1, 5],\n       [2, 5],\n       [3, 5],\n       [4, 5],\n       [5, 5],\n       [6, 5],\n       [7, 5],\n       [8, 5]]), array([[0, 0],\n       [1, 0],\n       [2, 0],\n       [3, 0],\n       [4, 0],\n       [5, 0],\n       [6, 0],\n       [7, 0],\n       [8, 0],\n       [0, 1],\n       [1, 1],\n       [2, 1],\n       [3, 1],\n       [4, 1],\n       [5, 1],\n       [6, 1],\n       [7, 1],\n       [8, 1],\n       [0, 2],\n       [1, 2],\n       [2, 2],\n       [3, 2],\n       [4, 2],\n       [5, 2],\n       [6, 2],\n       [7, 2],\n       [8, 2],\n       [0, 3],\n       [1, 3],\n       [2, 3],\n       [3, 3],\n       [4, 3],\n       [5, 3],\n       [6, 3],\n       [7, 3],\n       [8, 3],\n       [0, 4],\n       [1, 4],\n       [2, 4],\n       [3, 4],\n       [4, 4],\n       [5, 4],\n       [6, 4],\n       [7, 4],\n       [8, 4],\n       [0, 5],\n       [1, 5],\n       [2, 5],\n       [3, 5],\n       [4, 5],\n       [5, 5],\n       [6, 5],\n       [7, 5],\n       [8, 5]]), array([[0, 0],\n       [1, 0],\n       [2, 0],\n       [3, 0],\n       [4, 0],\n       [5, 0],\n       [6, 0],\n       [7, 0],\n       [8, 0],\n       [0, 1],\n       [1, 1],\n       [2, 1],\n       [3, 1],\n       [4, 1],\n       [5, 1],\n       [6, 1],\n       [7, 1],\n       [8, 1],\n       [0, 2],\n       [1, 2],\n       [2, 2],\n       [3, 2],\n       [4, 2],\n       [5, 2],\n       [6, 2],\n       [7, 2],\n       [8, 2],\n       [0, 3],\n       [1, 3],\n       [2, 3],\n       [3, 3],\n       [4, 3],\n       [5, 3],\n       [6, 3],\n       [7, 3],\n       [8, 3],\n       [0, 4],\n       [1, 4],\n       [2, 4],\n       [3, 4],\n       [4, 4],\n       [5, 4],\n       [6, 4],\n       [7, 4],\n       [8, 4],\n       [0, 5],\n       [1, 5],\n       [2, 5],\n       [3, 5],\n       [4, 5],\n       [5, 5],\n       [6, 5],\n       [7, 5],\n       [8, 5]])]\n"
    }
   ],
   "source": [
    "print(objp)"
   ]
  },
  {
   "cell_type": "code",
   "execution_count": null,
   "metadata": {},
   "outputs": [],
   "source": []
  }
 ],
 "metadata": {
  "language_info": {
   "codemirror_mode": {
    "name": "ipython",
    "version": 3
   },
   "file_extension": ".py",
   "mimetype": "text/x-python",
   "name": "python",
   "nbconvert_exporter": "python",
   "pygments_lexer": "ipython3",
   "version": "3.8.0-final"
  },
  "orig_nbformat": 2,
  "kernelspec": {
   "name": "python38064bit2cfaa349976b44c289ebdb8a49d9ff34",
   "display_name": "Python 3.8.0 64-bit"
  }
 },
 "nbformat": 4,
 "nbformat_minor": 2
}